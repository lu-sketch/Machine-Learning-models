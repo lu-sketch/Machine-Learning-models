{
  "cells": [
    {
      "cell_type": "markdown",
      "metadata": {
        "id": "RfAgn3yBGhr6"
      },
      "source": [
        "## Reinforcement Learning Task\n",
        "\n",
        "For this task you will be required to solve a classic reinforcement learning problem: the [Multi-Armed Bandit problem](https://en.wikipedia.org/wiki/Multi-armed_bandit). \n",
        "\n",
        "In order to understand the Multi-Armed Bandit problem, imagine that you are in a casio facing multiple slot machines (let's say 10) in a row. Each of these slot machines allow you to play for free and has a maximum payout of 10 dollars. This means that each slot machine is guaranteed to give you a reward between 0 and 10 dollars. Each slot machine has a different average payout, and you have to figure out which one gives the most average reward so that you can maximise your reward in the shortest time possible. \n",
        "\n",
        "One way to do this would be to favour machines that had a good history of rewards relative to the number of times you pulled that machine. Chances are, however, that you wouldn’t just stick to one machine. You would probably also pull each of the machines a couple of times to get an idea of how each one behaved. In other words, would use a strategy  that is a mix of:\n",
        "\n",
        "* Exploring: trying out different machines; after all, how are you supposed to know which machine is the “best” if you don’t give each one a shot?\n",
        "\n",
        "* Exploiting: given the history of each machine, maximise your profit by picking the one with the best proportion of rewards to pulls.\n",
        "\n",
        "Choosing the right mix of exploration vs. exploitation is a difficult balance to achieve. Exploit too much, and you might miss out on the real best machine. Explore too much, and you’ll waste turns on subpar machines.\n",
        "\n",
        "\n",
        "## ϵ (epsilon)-greedy algorithm\n",
        "\n",
        "Different algorithms aimed at solving the Multi-Armed Bandit problem go about balancing exploration and exploitation in different ways. A famous approach to solving this problem is the ϵ (epsilon)-greedy algorithm. In \"greedy\" experiments, the lever with highest known payout is always pulled except when a random action is taken. A randomly chosen arm is pulled a fraction ϵ of the time. The other 1-ϵ of the time, the arm with highest known payout is pulled.\n",
        "\n",
        "The epsilon greedy strategy, essentially leaves this problem up to the user to solve by having them define a constant ϵ . ϵ  is then used by the algorithm in the following way:\n",
        "\n",
        "* Choose a random machine to pull with probability = ϵ.\n",
        "* Choose the best machine to pull with probability = 1 - ϵ.\n",
        "\n",
        "The algorithm defines the \"best\" machine very simply; it is just the one with the highest experimental mean. The experimental mean is calculated as the sum of the rewards from that machine divided by the number of times that machine has been pulled.\n",
        "\n",
        "\n",
        "## Exercise\n",
        "\n",
        "Complete the code below.\n",
        "\n",
        "---\n",
        "\n",
        "\n",
        "As always, we firstly need to import the necessary libraries and modules required to implement the algorithm."
      ]
    },
    {
      "cell_type": "code",
      "execution_count": 21,
      "metadata": {
        "id": "SxuE5hmwGhsF"
      },
      "outputs": [],
      "source": [
        "import numpy as np\n",
        "import random\n",
        "import matplotlib.pyplot as plt\n",
        "import seaborn as sns\n",
        "%matplotlib inline\n",
        "np.random.seed(5)"
      ]
    },
    {
      "cell_type": "markdown",
      "metadata": {
        "id": "ypJtIxLkGhsK"
      },
      "source": [
        "For this task we will be solving the 10-armed bandit problem. We therefore create a numpy array, arms, of length n filled with random floats that can be understood as probabilities of action of that arm. We choose an epsilon value of 0.1."
      ]
    },
    {
      "cell_type": "code",
      "execution_count": 32,
      "metadata": {
        "id": "bfKDTcSnGhsN"
      },
      "outputs": [],
      "source": [
        "n = 10\n",
        "arms = np.random.rand(n)\n",
        "eps = 0.1 # probability of exploration action"
      ]
    },
    {
      "cell_type": "markdown",
      "metadata": {
        "id": "D7wdPjp1GhsR"
      },
      "source": [
        "We now need to create a reward function. In this function, for each arm, you need to run a loop of 10 iterations, and generate a random float every time. If this random number is less than the probability of that arm, you'll add a 1 to the reward. After all iterations, you should have a value between 0 to 10."
      ]
    },
    {
      "cell_type": "code",
      "execution_count": 31,
      "metadata": {
        "id": "KL2ei0g0GhsU",
        "colab": {
          "base_uri": "https://localhost:8080/"
        },
        "outputId": "7872e9f1-b1bc-44ad-b32d-3a1bcf6e8f75"
      },
      "outputs": [
        {
          "output_type": "execute_result",
          "data": {
            "text/plain": [
              "6"
            ]
          },
          "metadata": {},
          "execution_count": 31
        }
      ],
      "source": [
        "def reward(prob):\n",
        "    reward = 0\n",
        "    # Complete this function\n",
        "    for arm in arms:\n",
        "        random_value = np.random.rand()\n",
        "        if random_value < arm:\n",
        "           reward += 1\n",
        "    return reward\n",
        "reward(0.5)"
      ]
    },
    {
      "cell_type": "markdown",
      "metadata": {
        "id": "SCBu2A_QGhsX"
      },
      "source": [
        "We now initialise a memory array which has 1 row defaulted to random action index."
      ]
    },
    {
      "cell_type": "code",
      "execution_count": 33,
      "metadata": {
        "id": "YrZqyh2rGhsZ"
      },
      "outputs": [],
      "source": [
        "av = np.array([np.random.randint(0,(n+1)), 0]).reshape(1,2) #av = action-value"
      ]
    },
    {
      "cell_type": "markdown",
      "metadata": {
        "id": "m48HD0xzGhsc"
      },
      "source": [
        "Next, we define the bestArm function. This function is your greedy strategy of choosing the best arm so far. This function accepts a memory array that stores the history of all actions and their rewards. It is a 2 x k matrix where each row is an index reference to your arms array (1st element), and the reward received (2nd element). For example, if a row in your memory array is [2, 8], it means that action 2 was taken (the 3rd element in our arms array) and you received a reward of 8 for taking that action."
      ]
    },
    {
      "cell_type": "code",
      "execution_count": 34,
      "metadata": {
        "id": "E2dNOQRpGhsg"
      },
      "outputs": [],
      "source": [
        "\n",
        "def bestArm(a):\n",
        "    bestArm = 0 #default to 0\n",
        "    bestMean = 0\n",
        "    # Complete this function\n",
        "    for u in a:\n",
        "        avg = np.mean(a[np.where(a[:,0] == u[0])][:, 1]) #calculate mean reward for each action\n",
        "        if bestMean < avg:\n",
        "            bestMean = avg\n",
        "            bestArm = u[0]\n",
        "    return bestArm\n",
        "            \n",
        "    "
      ]
    },
    {
      "cell_type": "markdown",
      "source": [
        "As shown above according to the 'Mean' the best slot machine to play will be 'Machine' number 4"
      ],
      "metadata": {
        "id": "gUWq95b2g7zH"
      }
    },
    {
      "cell_type": "markdown",
      "metadata": {
        "id": "7xAsIdCNGhsk"
      },
      "source": [
        "Finally we can create the main loop for each play. Let's play it 500 times and display a matplotlib scatter plot of the mean reward against the number of times the game is played."
      ]
    },
    {
      "cell_type": "code",
      "source": [
        "for i in range(500):\n",
        "    if random.random() > eps: #greedy exploitation action\n",
        "        choice = bestArm(av)\n",
        "        thisAV = np.array([[choice, reward(arms[choice])]])\n",
        "        av = np.concatenate((av, thisAV), axis=0)\n",
        "    else: #exploration action\n",
        "        choice = np.where(arms == np.random.choice(arms))[0][0]\n",
        "        thisAV = np.array([[choice, reward(arms[choice])]]) #choice, reward\n",
        "        av = np.concatenate((av, thisAV), axis=0) #add to our action-value memory array\n",
        "    #calculate the mean reward\n",
        "    runningMean = np.mean(av[:,1])\n",
        "    plt.scatter(i, runningMean)"
      ],
      "metadata": {
        "colab": {
          "base_uri": "https://localhost:8080/",
          "height": 265
        },
        "id": "4ahwTX-muvnL",
        "outputId": "2c1aab05-4ebe-40a8-95eb-b8b889a016ea"
      },
      "execution_count": 35,
      "outputs": [
        {
          "output_type": "display_data",
          "data": {
            "text/plain": [
              "<Figure size 432x288 with 1 Axes>"
            ],
            "image/png": "[encoded data removed]"
          },
          "metadata": {
            "needs_background": "light"
          }
        }
      ]
    },
    {
      "cell_type": "markdown",
      "metadata": {
        "id": "8sI49MBEGhsn"
      },
      "source": [
        "If you have implemented the algorithm correctly, you should see that your agent learns to choose the arm which gives it the maximum average reward after several iterations of gameplay. "
      ]
    },
    {
      "cell_type": "markdown",
      "source": [
        "# **References:**"
      ],
      "metadata": {
        "id": "SyWUCJ4jdX3D"
      }
    },
    {
      "cell_type": "markdown",
      "source": [
        "\n",
        "\n",
        "1.   https://www.youtube.com/watch?v=lDtVuJKLykQ\n",
        "2.   https://www.youtube.com/watch?v=sNamSTJ4qCU\n",
        "3. https://prutor.ai/reinforcement-learning-algorithm-python-implementation-using-q-learning/\n",
        "4.https://github.com/mahakal001/reinforcement-learning/blob/master/rl-an-introduction/chapter02/10-armed-bandit-part-1.ipynb\n",
        "5. https://www.youtube.com/watch?v=a2R50V1z9i8\n",
        "6. https://www.youtube.com/watch?v=aAdD2XRC044\n",
        "7. https://blog.devgenius.io/how-to-solve-the-multi-armed-bandit-problem-epsilon-greedy-approach-ebe286390578\n"
      ],
      "metadata": {
        "id": "nEy_yjAydX5n"
      }
    },
    {
      "cell_type": "code",
      "source": [],
      "metadata": {
        "id": "mJSIRAMadtI2"
      },
      "execution_count": null,
      "outputs": []
    }
  ],
  "metadata": {
    "colab": {
      "provenance": [],
      "collapsed_sections": []
    },
    "kernelspec": {
      "display_name": "Python 3 (ipykernel)",
      "language": "python",
      "name": "python3"
    },
    "language_info": {
      "codemirror_mode": {
        "name": "ipython",
        "version": 3
      },
      "file_extension": ".py",
      "mimetype": "text/x-python",
      "name": "python",
      "nbconvert_exporter": "python",
      "pygments_lexer": "ipython3",
      "version": "3.9.12"
    }
  },
  "nbformat": 4,
  "nbformat_minor": 0
}
