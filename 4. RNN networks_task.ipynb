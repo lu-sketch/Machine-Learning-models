{
  "cells": [
    {
      "cell_type": "markdown",
      "metadata": {
        "id": "view-in-github",
        "colab_type": "text"
      },
      "source": [
        "<a href=\"https://colab.research.google.com/github/lu-sketch/Machine-Learning-models/blob/main/4.%20RNN%20networks_task.ipynb\" target=\"_parent\"><img src=\"https://colab.research.google.com/assets/colab-badge.svg\" alt=\"Open In Colab\"/></a>"
      ]
    },
    {
      "cell_type": "markdown",
      "metadata": {
        "id": "maINzqlPD1U7"
      },
      "source": [
        "# Using Keras to Build and Train Recurrent Neural Networks"
      ]
    },
    {
      "cell_type": "markdown",
      "metadata": {
        "id": "Vd9vw6EID1VB"
      },
      "source": [
        "In this task, you will be developing a LSTM network using the Keras to solve a time-series prediction problem.\n",
        "\n",
        "As the name suggests, time-series is a collection of data points collected at constant time intervals. These are analysed to determine the long term trend so as to forecast the future or perform some other form of analysis. \n",
        "\n",
        "\n",
        "## Exercise\n",
        "\n",
        "The problem we are going to look at in this task is the International Airline Passengers prediction problem. For this problem we are given a year and a month we need to predict the number of international airline passengers in units of 1,000. In other words we need to answer the question, \"Given the number of passengers (in units of thousands) this month, what is the number of passengers next month?\". \n",
        "\n",
        "The data ranges from January 1949 to December 1960 with 144 observations.\n",
        "\n",
        "You are provided with the incomplete code below. You are required to complete the code in order for it to run correctly. \n",
        "\n",
        "\n",
        "---\n",
        "\n",
        "We first need to import all of the functions and classes we intend to use. We need to import NumPy for scientific computation, Matplotlib for plotting graphs, and Pandas to aide in loading and manipulating our datasets."
      ]
    },
    {
      "cell_type": "code",
      "execution_count": 1,
      "metadata": {
        "id": "YfSd4kU9D1VF"
      },
      "outputs": [],
      "source": [
        "import tensorflow as tf\n",
        "from tensorflow import keras\n",
        "import pandas as pd\n",
        "\n",
        "import numpy as np\n",
        "import matplotlib.pyplot as plt\n",
        "import pandas\n",
        "import math\n",
        "from sklearn.model_selection import train_test_split\n",
        "from tensorflow.keras.utils import to_categorical\n",
        "\n",
        "from keras.models import Sequential\n",
        "from keras.layers import LSTM, Dense, Dropout\n",
        "\n",
        "from sklearn.preprocessing import MinMaxScaler\n",
        "from sklearn.metrics import mean_squared_error\n",
        "\n",
        "%matplotlib inline"
      ]
    },
    {
      "cell_type": "code",
      "source": [
        "from google.colab import drive\n",
        "drive.mount('/content/drive')"
      ],
      "metadata": {
        "colab": {
          "base_uri": "https://localhost:8080/"
        },
        "id": "L8Ln3wD8jRYy",
        "outputId": "be9809fe-eea2-4081-e5b6-a667870b5ea5"
      },
      "execution_count": 2,
      "outputs": [
        {
          "output_type": "stream",
          "name": "stdout",
          "text": [
            "Mounted at /content/drive\n"
          ]
        }
      ]
    },
    {
      "cell_type": "markdown",
      "metadata": {
        "id": "KMKH3XSCD1VK"
      },
      "source": [
        "The next step is to load in our training dataset as a Pandas dataframe. We can then extract the NumPy array from the dataframe and convert the integer values to floating point values, which are more suitable for modeling with a neural network."
      ]
    },
    {
      "cell_type": "code",
      "execution_count": 3,
      "metadata": {
        "id": "KU1lHLL4D1VM",
        "colab": {
          "base_uri": "https://localhost:8080/",
          "height": 314
        },
        "outputId": "b030abd0-9d9d-4ee7-e28a-43b207c4da0a"
      },
      "outputs": [
        {
          "output_type": "execute_result",
          "data": {
            "text/plain": [
              "Text(0.5, 1.0, 'International Airline passenger Dataset')"
            ]
          },
          "metadata": {},
          "execution_count": 3
        },
        {
          "output_type": "display_data",
          "data": {
            "text/plain": [
              "<Figure size 432x288 with 1 Axes>"
            ],
            "image/png": "[encoded data removed]"
          },
          "metadata": {
            "needs_background": "light"
          }
        }
      ],
      "source": [
        "# Complete: load the dataset using Pandas (remember to find and download the\n",
        "# international airlines passengers dataset)\n",
        "\n",
        "from google.colab import files\n",
        "\n",
        "dataset = pd.read_csv('/content/drive/MyDrive/DATA/LEVEL 3/Task 17/airline-passengers.csv')\n",
        "\n",
        "# Complete: extract the NumPy array from the dataframe\n",
        "# Complete: convert the integer values to floating point values\n",
        "dataset['Passengers'] = dataset['Passengers'].to_numpy(dtype=float, copy=False)\n",
        "dataset = dataset.iloc[:,-1].values\n",
        "\n",
        "dataset = dataset.reshape(-1,1)\n",
        "# Complete: Use matplotlib to plot the whole dataset \n",
        "data = dataset\n",
        "plt.plot(data)\n",
        "plt.xlabel(\"Date - Time\")\n",
        "plt.ylabel(\"Number of Passenger\")\n",
        "plt.title(\"International Airline passenger Dataset\", fontsize=15)"
      ]
    },
    {
      "cell_type": "markdown",
      "metadata": {
        "id": "8NprbQq4D1VU"
      },
      "source": [
        "LSTMs are sensitive to the scale of the input data. It can be a good practice to rescale the data to the range of 0-to-1, also called normalising. In our case, we’ll use Scikit- Learn’s MinMaxScaler and scale our dataset to numbers between zero and one."
      ]
    },
    {
      "cell_type": "code",
      "execution_count": 4,
      "metadata": {
        "id": "aMlLbw22D1VX"
      },
      "outputs": [],
      "source": [
        "scaler = MinMaxScaler(feature_range=(0, 1))\n",
        "dataset_scaled = scaler.fit_transform(dataset)\n"
      ]
    },
    {
      "cell_type": "code",
      "source": [
        "plt.plot(dataset_scaled)\n",
        "plt.title('Scaled Data')"
      ],
      "metadata": {
        "colab": {
          "base_uri": "https://localhost:8080/",
          "height": 298
        },
        "id": "aYF2bHPm2R-w",
        "outputId": "78342d5f-a81b-49ba-d5af-3408803245a2"
      },
      "execution_count": 5,
      "outputs": [
        {
          "output_type": "execute_result",
          "data": {
            "text/plain": [
              "Text(0.5, 1.0, 'Scaled Data')"
            ]
          },
          "metadata": {},
          "execution_count": 5
        },
        {
          "output_type": "display_data",
          "data": {
            "text/plain": [
              "<Figure size 432x288 with 1 Axes>"
            ],
            "image/png": "[encoded data removed]"
          },
          "metadata": {
            "needs_background": "light"
          }
        }
      ]
    },
    {
      "cell_type": "markdown",
      "metadata": {
        "id": "U0uQCuDeD1Vb"
      },
      "source": [
        "After we model our data and estimate the skill of our model on the training dataset, we need to get an idea of the skill of the model on new unseen data. With time series data, the sequence of values is important. A simple method that we can use is to split the ordered dataset into train and test datasets. The code below calculates the index of the split point and separates the data into the training datasets with 67% of the observations that we can use to train our model, leaving the remaining 33% for testing the model."
      ]
    },
    {
      "cell_type": "code",
      "execution_count": 6,
      "metadata": {
        "id": "9ZpBEIAvD1Vd",
        "colab": {
          "base_uri": "https://localhost:8080/"
        },
        "outputId": "7f4ad29f-e7ab-4fdd-c272-1548bf00b22b"
      },
      "outputs": [
        {
          "output_type": "stream",
          "name": "stdout",
          "text": [
            "train size: 86, test size: 58 \n"
          ]
        }
      ],
      "source": [
        "train_size = int(len(dataset) * 0.60)\n",
        "test_size = len(dataset) - train_size\n",
        "train, test = dataset[0:train_size,:], dataset[train_size:len(dataset),:]\n",
        "print(\"train size: {}, test size: {} \".format(len(train), len(test)))"
      ]
    },
    {
      "cell_type": "markdown",
      "metadata": {
        "id": "HlOgFbeiD1Vm"
      },
      "source": [
        "Now we can define a function to create a new dataset, as described above.\n",
        "\n",
        "The function takes two arguments: the dataset, which is a NumPy array that we want to convert into a dataset, and the look_back, which is the number of previous time steps to use as input variables to predict the next time period — in this case defaulted to 1.\n",
        "\n",
        "This default will create a dataset where X is the number of passengers at a given time (t) and Y is the number of passengers at the next time (t + 1).\n"
      ]
    },
    {
      "cell_type": "markdown",
      "source": [
        "We can now use this function to prepare the train and test datasets for modeling."
      ],
      "metadata": {
        "id": "u7H3oSxA8vxn"
      }
    },
    {
      "cell_type": "code",
      "execution_count": 7,
      "metadata": {
        "id": "epJhKfjZD1Vo"
      },
      "outputs": [],
      "source": [
        "# convert an array of values into a dataset matrix\n",
        "dataX, dataY = [], []\n",
        "def create_dataset(dataset, look_back=1):\n",
        "    #dataX, dataY = [], []\n",
        "    for i in range(len(dataset)-look_back-1):\n",
        "        a = dataset[i:(i+look_back), 0]\n",
        "        dataX.append(a)\n",
        "        dataY.append(dataset[i + look_back, 0])\n",
        "        \n",
        "    return np.array(dataX), np.array(dataY)\n",
        " "
      ]
    },
    {
      "cell_type": "code",
      "source": [
        "# Complete: reshape the trian input (trainX) to be [samples, time steps, features]\n",
        "# Complete: reshape the test input (testX) to be [samples, time steps, features]\n",
        "\n",
        "time_stamp = 10\n",
        "dataX = []\n",
        "dataY = []\n",
        "for i in range(len(train)-time_stamp-1):\n",
        "    a = train[i:(i+time_stamp), 0]\n",
        "    dataX.append(a)\n",
        "    dataY.append(train[i + time_stamp, 0])\n",
        "trainX = np.array(dataX)\n",
        "trainY = np.array(dataY) "
      ],
      "metadata": {
        "id": "-FTrMdDV3TAz"
      },
      "execution_count": 8,
      "outputs": []
    },
    {
      "cell_type": "code",
      "source": [
        "dataX = []\n",
        "dataY = []\n",
        "for i in range(len(test)-time_stamp-1):\n",
        "    a = test[i:(i+time_stamp), 0]\n",
        "    dataX.append(a)\n",
        "    dataY.append(test[i + time_stamp, 0])\n",
        "testX = np.array(dataX)\n",
        "testY = np.array(dataY) "
      ],
      "metadata": {
        "id": "KOQBRY0x3XOc"
      },
      "execution_count": 9,
      "outputs": []
    },
    {
      "cell_type": "code",
      "source": [
        "trainX = np.reshape(trainX, (trainX.shape[0], trainX.shape[1], 1))\n",
        "testX = np.reshape(testX, (testX.shape[0], testX.shape[1], 1))\n",
        "print('shape of trainX: ', trainX.shape)\n",
        "print('shape of testX: ', testX.shape)"
      ],
      "metadata": {
        "colab": {
          "base_uri": "https://localhost:8080/"
        },
        "id": "GJaTAXkq3Xh_",
        "outputId": "2b066d0b-e93a-45e5-811f-3b6cccb868f5"
      },
      "execution_count": 10,
      "outputs": [
        {
          "output_type": "stream",
          "name": "stdout",
          "text": [
            "shape of trainX:  (75, 10, 1)\n",
            "shape of testX:  (47, 10, 1)\n"
          ]
        }
      ]
    },
    {
      "cell_type": "markdown",
      "metadata": {
        "id": "54O9X3KtD1V0"
      },
      "source": [
        "The LSTM network expects the input data (X) to be provided with a specific array structure in the form of: [samples, time steps, features].\n",
        "\n",
        "Currently, our data is in the form: [samples, features] and we are framing the problem as one time step for each sample. We can transform the prepared train and test input data into the expected structure using numpy.reshape()."
      ]
    },
    {
      "cell_type": "markdown",
      "metadata": {
        "id": "7WkO51TnD1V3"
      },
      "source": [
        "We are now ready to design our LSTM network for this problem.\n",
        "\n",
        "The network has a visible layer with 1 input, a hidden layer with 4 LSTM blocks or neurons, and an output layer that makes a single value prediction. The sigmoid activation function is used for the LSTM blocks. "
      ]
    },
    {
      "cell_type": "code",
      "execution_count": 11,
      "metadata": {
        "id": "60sMcBIqD1V5"
      },
      "outputs": [],
      "source": [
        "# Complete: create a sequential model\n",
        "from keras.models import Sequential\n",
        "from keras.layers import Dense\n",
        "from keras.layers import SimpleRNN\n",
        "from keras.layers import Dropout\n",
        "\n",
        "model = Sequential()\n",
        "\n",
        "# Adding the first RNN layer and some Dropout regularisation\n",
        "model.add(SimpleRNN(units = 100,activation='relu', return_sequences = True, input_shape = (trainX.shape[1], 1)))\n",
        "model.add(Dropout(0.2))\n",
        "\n",
        "# Adding a second RNN layer and some Dropout regularisation\n",
        "model.add(SimpleRNN(units = 80,activation='relu', return_sequences = True))\n",
        "model.add(Dropout(0.2))\n",
        "\n",
        "# Complete: create a LSTM layer\n",
        "model.add(LSTM(4, input_shape=(1, time_stamp), activation='sigmoid')) \n",
        "\n",
        "# Complete: create a Dense layer\n",
        "model.add(Dense(units = 1))\n"
      ]
    },
    {
      "cell_type": "markdown",
      "metadata": {
        "id": "iq4BkeO2D1V9"
      },
      "source": [
        "Next complile and fit the model. The network is trained for 100 epochs and a batch size of 1 is used."
      ]
    },
    {
      "cell_type": "code",
      "execution_count": 12,
      "metadata": {
        "id": "FafYD1PxD1V-",
        "colab": {
          "base_uri": "https://localhost:8080/"
        },
        "outputId": "4db452e5-1a63-4c20-dd95-befbbbb3c4f7"
      },
      "outputs": [
        {
          "output_type": "stream",
          "name": "stdout",
          "text": [
            "Epoch 1/100\n",
            "75/75 [==============================] - 5s 31ms/step - loss: 45716.5508\n",
            "Epoch 2/100\n",
            "75/75 [==============================] - 1s 7ms/step - loss: 45364.2578\n",
            "Epoch 3/100\n",
            "75/75 [==============================] - 1s 9ms/step - loss: 45256.8633\n",
            "Epoch 4/100\n",
            "75/75 [==============================] - 1s 9ms/step - loss: 45135.8320\n",
            "Epoch 5/100\n",
            "75/75 [==============================] - 1s 10ms/step - loss: 45001.5117\n",
            "Epoch 6/100\n",
            "75/75 [==============================] - 3s 38ms/step - loss: 44864.3555\n",
            "Epoch 7/100\n",
            "75/75 [==============================] - 1s 18ms/step - loss: 44745.0508\n",
            "Epoch 8/100\n",
            "75/75 [==============================] - 2s 32ms/step - loss: 44630.3906\n",
            "Epoch 9/100\n",
            "75/75 [==============================] - 2s 33ms/step - loss: 44504.8086\n",
            "Epoch 10/100\n",
            "75/75 [==============================] - 2s 22ms/step - loss: 44388.0000\n",
            "Epoch 11/100\n",
            "75/75 [==============================] - 3s 34ms/step - loss: 44290.0352\n",
            "Epoch 12/100\n",
            "75/75 [==============================] - 1s 14ms/step - loss: 44180.6367\n",
            "Epoch 13/100\n",
            "75/75 [==============================] - 1s 7ms/step - loss: 44039.4297\n",
            "Epoch 14/100\n",
            "75/75 [==============================] - 1s 9ms/step - loss: 43917.0586\n",
            "Epoch 15/100\n",
            "75/75 [==============================] - 1s 11ms/step - loss: 43837.1172\n",
            "Epoch 16/100\n",
            "75/75 [==============================] - 1s 9ms/step - loss: 43697.2461\n",
            "Epoch 17/100\n",
            "75/75 [==============================] - 1s 10ms/step - loss: 43570.0039\n",
            "Epoch 18/100\n",
            "75/75 [==============================] - 1s 7ms/step - loss: 43471.0820\n",
            "Epoch 19/100\n",
            "75/75 [==============================] - 1s 16ms/step - loss: 43339.1953\n",
            "Epoch 20/100\n",
            "75/75 [==============================] - 1s 16ms/step - loss: 43223.7148\n",
            "Epoch 21/100\n",
            "75/75 [==============================] - 1s 11ms/step - loss: 43108.8477\n",
            "Epoch 22/100\n",
            "75/75 [==============================] - 1s 7ms/step - loss: 42993.5312\n",
            "Epoch 23/100\n",
            "75/75 [==============================] - 1s 18ms/step - loss: 42879.1602\n",
            "Epoch 24/100\n",
            "75/75 [==============================] - 1s 9ms/step - loss: 42765.0430\n",
            "Epoch 25/100\n",
            "75/75 [==============================] - 1s 10ms/step - loss: 42650.8398\n",
            "Epoch 26/100\n",
            "75/75 [==============================] - 1s 12ms/step - loss: 42537.0898\n",
            "Epoch 27/100\n",
            "75/75 [==============================] - 1s 19ms/step - loss: 42423.6094\n",
            "Epoch 28/100\n",
            "75/75 [==============================] - 1s 9ms/step - loss: 42310.4844\n",
            "Epoch 29/100\n",
            "75/75 [==============================] - 2s 21ms/step - loss: 42197.3477\n",
            "Epoch 30/100\n",
            "75/75 [==============================] - 1s 9ms/step - loss: 42084.4336\n",
            "Epoch 31/100\n",
            "75/75 [==============================] - 1s 10ms/step - loss: 41972.1094\n",
            "Epoch 32/100\n",
            "75/75 [==============================] - 1s 10ms/step - loss: 41859.8984\n",
            "Epoch 33/100\n",
            "75/75 [==============================] - 1s 12ms/step - loss: 41747.5391\n",
            "Epoch 34/100\n",
            "75/75 [==============================] - 1s 9ms/step - loss: 41635.9375\n",
            "Epoch 35/100\n",
            "75/75 [==============================] - 1s 17ms/step - loss: 41542.8906\n",
            "Epoch 36/100\n",
            "75/75 [==============================] - 1s 16ms/step - loss: 41413.3906\n",
            "Epoch 37/100\n",
            "75/75 [==============================] - 1s 7ms/step - loss: 41317.1562\n",
            "Epoch 38/100\n",
            "75/75 [==============================] - 1s 11ms/step - loss: 41211.5469\n",
            "Epoch 39/100\n",
            "75/75 [==============================] - 1s 11ms/step - loss: 41118.8750\n",
            "Epoch 40/100\n",
            "75/75 [==============================] - 1s 12ms/step - loss: 40999.8281\n",
            "Epoch 41/100\n",
            "75/75 [==============================] - 1s 11ms/step - loss: 40861.2500\n",
            "Epoch 42/100\n",
            "75/75 [==============================] - 1s 11ms/step - loss: 40751.0703\n",
            "Epoch 43/100\n",
            "75/75 [==============================] - 1s 11ms/step - loss: 40666.5117\n",
            "Epoch 44/100\n",
            "75/75 [==============================] - 1s 9ms/step - loss: 40550.6602\n",
            "Epoch 45/100\n",
            "75/75 [==============================] - 1s 18ms/step - loss: 40441.5703\n",
            "Epoch 46/100\n",
            "75/75 [==============================] - 1s 7ms/step - loss: 40321.0820\n",
            "Epoch 47/100\n",
            "75/75 [==============================] - 1s 19ms/step - loss: 40203.5586\n",
            "Epoch 48/100\n",
            "75/75 [==============================] - 2s 26ms/step - loss: 40094.8789\n",
            "Epoch 49/100\n",
            "75/75 [==============================] - 1s 17ms/step - loss: 39985.5039\n",
            "Epoch 50/100\n",
            "75/75 [==============================] - 1s 19ms/step - loss: 39892.2734\n",
            "Epoch 51/100\n",
            "75/75 [==============================] - 1s 8ms/step - loss: 39811.8359\n",
            "Epoch 52/100\n",
            "75/75 [==============================] - 1s 8ms/step - loss: 39660.8828\n",
            "Epoch 53/100\n",
            "75/75 [==============================] - 1s 15ms/step - loss: 39553.1328\n",
            "Epoch 54/100\n",
            "75/75 [==============================] - 1s 7ms/step - loss: 39445.0703\n",
            "Epoch 55/100\n",
            "75/75 [==============================] - 1s 10ms/step - loss: 39377.3711\n",
            "Epoch 56/100\n",
            "75/75 [==============================] - 1s 9ms/step - loss: 39265.2148\n",
            "Epoch 57/100\n",
            "75/75 [==============================] - 1s 7ms/step - loss: 39123.2617\n",
            "Epoch 58/100\n",
            "75/75 [==============================] - 1s 19ms/step - loss: 39061.4531\n",
            "Epoch 59/100\n",
            "75/75 [==============================] - 2s 24ms/step - loss: 38942.5781\n",
            "Epoch 60/100\n",
            "75/75 [==============================] - 1s 9ms/step - loss: 38805.4648\n",
            "Epoch 61/100\n",
            "75/75 [==============================] - 1s 10ms/step - loss: 38696.5859\n",
            "Epoch 62/100\n",
            "75/75 [==============================] - 1s 9ms/step - loss: 38649.8516\n",
            "Epoch 63/100\n",
            "75/75 [==============================] - 1s 9ms/step - loss: 38516.3984\n",
            "Epoch 64/100\n",
            "75/75 [==============================] - 1s 12ms/step - loss: 38397.2383\n",
            "Epoch 65/100\n",
            "75/75 [==============================] - 1s 18ms/step - loss: 38295.1875\n",
            "Epoch 66/100\n",
            "75/75 [==============================] - 1s 9ms/step - loss: 38167.8594\n",
            "Epoch 67/100\n",
            "75/75 [==============================] - 2s 22ms/step - loss: 38113.1328\n",
            "Epoch 68/100\n",
            "75/75 [==============================] - 1s 12ms/step - loss: 37989.3555\n",
            "Epoch 69/100\n",
            "75/75 [==============================] - 1s 9ms/step - loss: 37949.0781\n",
            "Epoch 70/100\n",
            "75/75 [==============================] - 2s 30ms/step - loss: 37751.2852\n",
            "Epoch 71/100\n",
            "75/75 [==============================] - 1s 11ms/step - loss: 37670.6680\n",
            "Epoch 72/100\n",
            "75/75 [==============================] - 1s 9ms/step - loss: 37539.7188\n",
            "Epoch 73/100\n",
            "75/75 [==============================] - 1s 19ms/step - loss: 37465.9219\n",
            "Epoch 74/100\n",
            "75/75 [==============================] - 1s 9ms/step - loss: 37331.3477\n",
            "Epoch 75/100\n",
            "75/75 [==============================] - 1s 17ms/step - loss: 37295.0898\n",
            "Epoch 76/100\n",
            "75/75 [==============================] - 1s 10ms/step - loss: 37199.5859\n",
            "Epoch 77/100\n",
            "75/75 [==============================] - 1s 9ms/step - loss: 37021.3320\n",
            "Epoch 78/100\n",
            "75/75 [==============================] - 1s 12ms/step - loss: 36917.4297\n",
            "Epoch 79/100\n",
            "75/75 [==============================] - 1s 19ms/step - loss: 36813.6719\n",
            "Epoch 80/100\n",
            "75/75 [==============================] - 1s 16ms/step - loss: 36710.9961\n",
            "Epoch 81/100\n",
            "75/75 [==============================] - 1s 9ms/step - loss: 36607.3516\n",
            "Epoch 82/100\n",
            "75/75 [==============================] - 2s 12ms/step - loss: 36504.7695\n",
            "Epoch 83/100\n",
            "75/75 [==============================] - 1s 17ms/step - loss: 36401.7656\n",
            "Epoch 84/100\n",
            "75/75 [==============================] - 1s 8ms/step - loss: 36299.3984\n",
            "Epoch 85/100\n",
            "75/75 [==============================] - 1s 18ms/step - loss: 36198.4219\n",
            "Epoch 86/100\n",
            "75/75 [==============================] - 1s 15ms/step - loss: 36094.8047\n",
            "Epoch 87/100\n",
            "75/75 [==============================] - 1s 17ms/step - loss: 35992.5508\n",
            "Epoch 88/100\n",
            "75/75 [==============================] - 1s 12ms/step - loss: 35890.8789\n",
            "Epoch 89/100\n",
            "75/75 [==============================] - 1s 9ms/step - loss: 35789.3359\n",
            "Epoch 90/100\n",
            "75/75 [==============================] - 2s 21ms/step - loss: 35687.6484\n",
            "Epoch 91/100\n",
            "75/75 [==============================] - 1s 9ms/step - loss: 35590.1953\n",
            "Epoch 92/100\n",
            "75/75 [==============================] - 1s 8ms/step - loss: 35485.4648\n",
            "Epoch 93/100\n",
            "75/75 [==============================] - 1s 15ms/step - loss: 35384.5469\n",
            "Epoch 94/100\n",
            "75/75 [==============================] - 1s 16ms/step - loss: 35283.7617\n",
            "Epoch 95/100\n",
            "75/75 [==============================] - 1s 11ms/step - loss: 35183.4414\n",
            "Epoch 96/100\n",
            "75/75 [==============================] - 1s 17ms/step - loss: 35082.8398\n",
            "Epoch 97/100\n",
            "75/75 [==============================] - 1s 18ms/step - loss: 34982.6094\n",
            "Epoch 98/100\n",
            "75/75 [==============================] - 1s 9ms/step - loss: 34882.7617\n",
            "Epoch 99/100\n",
            "75/75 [==============================] - 2s 27ms/step - loss: 34784.9961\n",
            "Epoch 100/100\n",
            "75/75 [==============================] - 1s 16ms/step - loss: 34683.3086\n"
          ]
        },
        {
          "output_type": "execute_result",
          "data": {
            "text/plain": [
              "<keras.callbacks.History at 0x7f87eced3110>"
            ]
          },
          "metadata": {},
          "execution_count": 12
        }
      ],
      "source": [
        "# Complete: Compile the model\n",
        "# Complete: Fit the model\n",
        "model.compile(loss='mean_squared_error', optimizer='adam')\n",
        "model.fit(trainX, trainY, epochs=100, batch_size=1)"
      ]
    },
    {
      "cell_type": "markdown",
      "metadata": {
        "id": "26p_v-mjD1WB"
      },
      "source": [
        "Once the model is fit, we can estimate the performance of the model on the train and test datasets. This will give us a point of comparison for new models.\n",
        "\n",
        "Note that we invert the predictions before calculating error scores to ensure that performance is reported in the same units as the original data (thousands of passengers per month)."
      ]
    },
    {
      "cell_type": "code",
      "source": [
        "# make predictions\n",
        "trainPredict = model.predict(trainX)\n",
        "testPredict = model.predict(testX)\n",
        "# invert predictions\n",
        "trainPredict = scaler.inverse_transform(trainPredict)\n",
        "trainY = scaler.inverse_transform([trainY])\n",
        "testPredict = scaler.inverse_transform(testPredict)\n",
        "testY = scaler.inverse_transform([testY])\n",
        "# calculate root mean squared error\n",
        "trainScore = math.sqrt(mean_squared_error(trainY[0], trainPredict[:,0]))\n",
        "print('Train Score: %.2f RMSE' % (trainScore))\n",
        "testScore = math.sqrt(mean_squared_error(testY[0], testPredict[:,0]))\n",
        "print('Test Score: %.2f RMSE' % (testScore))"
      ],
      "metadata": {
        "colab": {
          "base_uri": "https://localhost:8080/"
        },
        "id": "DwURmXk5EikF",
        "outputId": "fb2b4b8e-e9a3-4267-b97a-d72b7ddb0844"
      },
      "execution_count": 13,
      "outputs": [
        {
          "output_type": "stream",
          "name": "stdout",
          "text": [
            "3/3 [==============================] - 1s 61ms/step\n",
            "2/2 [==============================] - 0s 8ms/step\n",
            "Train Score: 96398.45 RMSE\n",
            "Test Score: 202466.35 RMSE\n"
          ]
        }
      ]
    },
    {
      "cell_type": "markdown",
      "metadata": {
        "id": "qSVz1FSXD1WH"
      },
      "source": [
        "Finally, we can generate predictions using the model for both the train and test dataset to get a visual indication of the skill of the model.\n",
        "\n",
        "Because of how the dataset was prepared, we must shift the predictions so that they align on the x-axis with the original dataset. Once prepared, the data is plotted, showing the original dataset in blue, the predictions for the training dataset in green, and the predictions on the unseen test dataset in red."
      ]
    },
    {
      "cell_type": "code",
      "source": [
        "trainPredictPlot = np.empty_like(dataset)\n",
        "trainPredictPlot[:, :] = np.nan\n",
        "trainPredictPlot[time_stamp:len(trainPredict)+time_stamp, :] = trainPredict\n",
        "\n",
        "testPredictPlot = np.empty_like(dataset)\n",
        "testPredictPlot[:, :] = np.nan\n",
        "testPredictPlot[len(trainPredict)+(time_stamp*2)+1:len(dataset)-1, :] = testPredict\n",
        "\n",
        "plt.plot(scaler.inverse_transform(dataset))\n",
        "plt.title('Train vs Test Predictions')\n",
        "plt.plot(trainPredictPlot)\n",
        "plt.plot(testPredictPlot)\n"
      ],
      "metadata": {
        "colab": {
          "base_uri": "https://localhost:8080/",
          "height": 298
        },
        "id": "dSdq3kD6IEFg",
        "outputId": "e0de2a81-9c03-44f4-82f0-a80a91570fbb"
      },
      "execution_count": 14,
      "outputs": [
        {
          "output_type": "execute_result",
          "data": {
            "text/plain": [
              "[<matplotlib.lines.Line2D at 0x7f87ec831b90>]"
            ]
          },
          "metadata": {},
          "execution_count": 14
        },
        {
          "output_type": "display_data",
          "data": {
            "text/plain": [
              "<Figure size 432x288 with 1 Axes>"
            ],
            "image/png": "[encoded data removed]"
          },
          "metadata": {
            "needs_background": "light"
          }
        }
      ]
    },
    {
      "cell_type": "markdown",
      "metadata": {
        "id": "IBPijESTD1WK"
      },
      "source": [
        "We can see that the model did an excellent job of fitting both the training and the test datasets."
      ]
    },
    {
      "cell_type": "markdown",
      "source": [
        "## REFERENCES:"
      ],
      "metadata": {
        "id": "eZgZsbaW7xbA"
      }
    },
    {
      "cell_type": "markdown",
      "source": [
        "1. https://www.kaggle.com/code/tanyildizderya/airline-passenger-lstm\n",
        "2. https://www.kaggle.com/code/mehmetkasap/rnn-international-airline-passengers"
      ],
      "metadata": {
        "id": "hrxWvnlV709k"
      }
    },
    {
      "cell_type": "code",
      "source": [],
      "metadata": {
        "id": "EADYEOLj8EDQ"
      },
      "execution_count": 14,
      "outputs": []
    }
  ],
  "metadata": {
    "colab": {
      "provenance": [],
      "collapsed_sections": [],
      "toc_visible": true,
      "include_colab_link": true
    },
    "kernelspec": {
      "display_name": "Python 3",
      "language": "python",
      "name": "python3"
    },
    "language_info": {
      "codemirror_mode": {
        "name": "ipython",
        "version": 3
      },
      "file_extension": ".py",
      "mimetype": "text/x-python",
      "name": "python",
      "nbconvert_exporter": "python",
      "pygments_lexer": "ipython3",
      "version": "3.7.3"
    }
  },
  "nbformat": 4,
  "nbformat_minor": 0
}