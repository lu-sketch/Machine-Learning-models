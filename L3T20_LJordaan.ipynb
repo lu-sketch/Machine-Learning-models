{
  "cells": [
    {
      "cell_type": "markdown",
      "metadata": {
        "id": "eHGm8RQlK46m"
      },
      "source": [
        "# Get and explore dataset"
      ]
    },
    {
      "cell_type": "code",
      "execution_count": 60,
      "metadata": {
        "id": "-erlYw1jXtgh"
      },
      "outputs": [],
      "source": [
        "import matplotlib.pyplot as plt\n",
        "from matplotlib import pyplot\n",
        "import numpy as np\n",
        "import re\n",
        "import sklearn\n",
        "from sklearn.model_selection import train_test_split\n",
        "\n",
        "%matplotlib inline"
      ]
    },
    {
      "cell_type": "code",
      "execution_count": 61,
      "metadata": {
        "id": "goZIhX8nII4T"
      },
      "outputs": [],
      "source": [
        "# Make results reproducible - set random seed\n",
        "from numpy.random import seed\n",
        "seed(42)"
      ]
    },
    {
      "cell_type": "code",
      "execution_count": 62,
      "metadata": {
        "id": "v_fEysQHII4W",
        "tags": []
      },
      "outputs": [],
      "source": [
        "negative_file = \"/content/drive/MyDrive/DATA/LEVEL 3/Task 20/negative.txt\"\n",
        "positive_file = \"/content/drive/MyDrive/DATA/LEVEL 3/Task 20/positive.txt\""
      ]
    },
    {
      "cell_type": "code",
      "execution_count": 63,
      "metadata": {
        "id": "0rWm4yycII4Y",
        "tags": []
      },
      "outputs": [],
      "source": [
        "# Do not modify - helper function to load and preprocess data\n",
        "def filter_words(line):    \n",
        "    line = re.sub(r'[^\\w\\s]','',line.rstrip())\n",
        "    words = line.split(\" \") \n",
        "    words = [i.lower() for i in words if i]      \n",
        "    return \" \".join(words)\n",
        "\n",
        "def load_data(filename):\n",
        "    thefile = open(filename, 'r') \n",
        "    lines = thefile.readlines() \n",
        "\n",
        "    data = []\n",
        "    for l in range(0,len(lines)): \n",
        "        if(lines[l-1].strip() == \"<title>\"): \n",
        "            theline = filter_words(lines[l])\n",
        "            if(len(theline) < 50):\n",
        "                data.append(theline)            \n",
        "            \n",
        "    return data\n",
        "\n",
        "# Helper function to convert categorical data to class label\n",
        "def to_word_label(y):\n",
        "    y = to_class(y)   \n",
        "    return [\"positive\" if i==0 else \"negative\" for i in y]\n",
        "\n",
        "# Helper function to convert class label to numeric label\n",
        "def to_numeric_label(y):\n",
        "  return [0 if i==\"positive\" else 1 for i in word_labels]\n",
        "\n",
        "# Helper function: this function needs to be called before sending arrays to sklearn metrics,\n",
        "# it converts back to class form from categorical form. ie: [1,0] --> 0, [0,1] --> 1\n",
        "def to_class(y):\n",
        "    return np.argmax(y,axis=1) "
      ]
    },
    {
      "cell_type": "code",
      "source": [
        "from google.colab import drive\n",
        "drive.mount('/content/drive')"
      ],
      "metadata": {
        "colab": {
          "base_uri": "https://localhost:8080/"
        },
        "id": "cJDlwlHyRFIj",
        "outputId": "d36da3a5-b162-4795-d355-0eea85f2c724"
      },
      "execution_count": 64,
      "outputs": [
        {
          "output_type": "stream",
          "name": "stdout",
          "text": [
            "Drive already mounted at /content/drive; to attempt to forcibly remount, call drive.mount(\"/content/drive\", force_remount=True).\n"
          ]
        }
      ]
    },
    {
      "cell_type": "code",
      "execution_count": 65,
      "metadata": {
        "colab": {
          "base_uri": "https://localhost:8080/"
        },
        "id": "jjGUiFm9II4b",
        "outputId": "0f545268-e744-4c6b-8c26-469819940a65",
        "tags": []
      },
      "outputs": [
        {
          "output_type": "stream",
          "name": "stdout",
          "text": [
            "['one of the best crichton novels', 'the medicine of the future', 'beautiful', 'for lovers of robicheaux', 'a good book', 'to the point and beautifully illustrated', 'at least somebody has got it', 'beautifully written heartwarming story', 'an excellent cookbook full of delicious recipes', 'an outstanding resource']\n",
            "['horrible book horrible', 'shallow selfindulgence', 'horrible book horrible', 'disappointment', 'a disappointing mess', 'save your money there are better books out there', 'thank you but no thanks', 'unendurable', 'the hard way', 'some good info among the political commercial']\n"
          ]
        }
      ],
      "source": [
        "positive = load_data(positive_file)\n",
        "negative = load_data(negative_file)\n",
        "\n",
        "print(positive[0:10])\n",
        "print(negative[0:10])"
      ]
    },
    {
      "cell_type": "code",
      "execution_count": 66,
      "metadata": {
        "id": "yrgEYOOCII4d",
        "tags": []
      },
      "outputs": [],
      "source": [
        "# Do not modify - Combines the positive and negative reviews into a single list and create labels\n",
        "data = positive + negative\n",
        "word_labels = [\"positive\"] * len(positive) + [\"negative\"] * len(negative) \n",
        "\n",
        "# Converts labels to numbers in one-hot encoding - [1, 0] (positive) or [0, 1] (negative)\n",
        "from keras.utils import to_categorical\n",
        "labels  = to_categorical(to_numeric_label(word_labels))"
      ]
    },
    {
      "cell_type": "code",
      "execution_count": 154,
      "metadata": {
        "id": "97Uh2uBpII4l",
        "tags": [],
        "colab": {
          "base_uri": "https://localhost:8080/",
          "height": 602
        },
        "outputId": "557d27e8-3a21-4302-b428-7fdc8959ad3e"
      },
      "outputs": [
        {
          "output_type": "stream",
          "name": "stdout",
          "text": [
            "Mean of the labels  0.5\n",
            "Standard Deviation  0.5\n",
            "Unique words in the data set:  1793 words\n"
          ]
        },
        {
          "output_type": "display_data",
          "data": {
            "text/plain": [
              "<Figure size 432x288 with 1 Axes>"
            ],
            "image/png": "[encoded data removed]"
          },
          "metadata": {
            "needs_background": "light"
          }
        },
        {
          "output_type": "display_data",
          "data": {
            "text/plain": [
              "<Figure size 432x288 with 1 Axes>"
            ],
            "image/png": "[encoded data removed]"
          },
          "metadata": {
            "needs_background": "light"
          }
        }
      ],
      "source": [
        "# Write some code to investigate the dataset. \n",
        "# - Calculate and report the mean review size, its standard deviation and create a boxplot.\n",
        "\n",
        "print('Mean of the labels ',labels.mean())\n",
        "print('Standard Deviation ',labels.std())\n",
        "\n",
        "# Boxplot\n",
        "fig1, ax1 = plt.subplots()\n",
        "ax1.set_title('Boxplot : Labels')\n",
        "ax1.boxplot(labels)\n",
        "\n",
        "fig1, ax1 = plt.subplots()\n",
        "ax1.set_title('Boxplot : Tokenized_data')\n",
        "ax1.boxplot(tokenized_data)\n",
        "\n",
        "# - Calculate the number of unique words in the dataset\n",
        "print('Unique words in the data set: ', len(labels), 'words')\n",
        "\n",
        "# - Perform any other dataset investigation that you feel would be valuable\n",
        " "
      ]
    },
    {
      "cell_type": "markdown",
      "source": [
        "Mean = 0.5 'Thus half of the words are positive and the other half negative'."
      ],
      "metadata": {
        "id": "rmXuDgsXaifN"
      }
    },
    {
      "cell_type": "code",
      "execution_count": 68,
      "metadata": {
        "colab": {
          "base_uri": "https://localhost:8080/"
        },
        "id": "_XXnArgcII4i",
        "outputId": "73e0d683-1ae7-4f17-e31d-3c0dee336502",
        "tags": []
      },
      "outputs": [
        {
          "output_type": "stream",
          "name": "stdout",
          "text": [
            "['one of the best crichton novels', 'the medicine of the future', 'beautiful', 'for lovers of robicheaux', 'a good book']\n",
            "[[18, 4, 2, 19], [2, 4, 2], [], [6, 4], [1, 12, 3]]\n",
            "1793\n"
          ]
        }
      ],
      "source": [
        "# Do not modify - Tokenize the vocabulary \n",
        "from keras.preprocessing.text import Tokenizer\n",
        "\n",
        "tokenizer = Tokenizer(num_words=25)\n",
        "\n",
        "tokenizer.fit_on_texts(data) #create the vocabularry\n",
        "\n",
        "tokenized_data = tokenizer.texts_to_sequences(data) #tokenize the data using the vocabulary\n",
        "\n",
        "vocab_size = len(tokenizer.word_index) + 1 \n",
        "\n",
        "# Compare a sample of the data before and after tokenization\n",
        "print(data[0:5])\n",
        "print(tokenized_data[0:5])\n",
        "print(len(tokenized_data))"
      ]
    },
    {
      "cell_type": "markdown",
      "metadata": {
        "id": "_vsMmLjdK1Gf"
      },
      "source": [
        "# Pre-processing"
      ]
    },
    {
      "cell_type": "code",
      "source": [
        "# Write some code to pre-process the data so that each review is the same length\n",
        "import tensorflow as tf\n",
        "from keras_preprocessing.sequence import pad_sequences\n",
        "tokenized_data = tf.keras.preprocessing.sequence.pad_sequences(tokenized_data,maxlen=4)\n",
        "print(tokenized_data) # we have 1793 4 word sequences now\n"
      ],
      "metadata": {
        "colab": {
          "base_uri": "https://localhost:8080/"
        },
        "id": "Y0rGnMPwXQky",
        "outputId": "379357f5-dd29-46aa-b918-0af614e318ab"
      },
      "execution_count": 69,
      "outputs": [
        {
          "output_type": "stream",
          "name": "stdout",
          "text": [
            "[[18  4  2 19]\n",
            " [ 0  2  4  2]\n",
            " [ 0  0  0  0]\n",
            " ...\n",
            " [ 0  0  0  0]\n",
            " [ 0  0  0  6]\n",
            " [ 0  0  0  0]]\n"
          ]
        }
      ]
    },
    {
      "cell_type": "code",
      "source": [
        "X = tokenized_data\n",
        "y = labels\n",
        "\n",
        "X_train, X_test, y_train, y_test = train_test_split(X, y, test_size=0.2, random_state=0)\n",
        "print('X_train, X_test', X_train.shape, X_test.shape)\n",
        "print('y_train, y_test', y_train.shape, y_test.shape)\n"
      ],
      "metadata": {
        "id": "a-QPXQAMCwIR",
        "colab": {
          "base_uri": "https://localhost:8080/"
        },
        "outputId": "0102cc74-cc1b-487b-b0c5-d1f64c1a3e9f"
      },
      "execution_count": 70,
      "outputs": [
        {
          "output_type": "stream",
          "name": "stdout",
          "text": [
            "X_train, X_test (1434, 4) (359, 4)\n",
            "y_train, y_test (1434, 2) (359, 2)\n"
          ]
        }
      ]
    },
    {
      "cell_type": "code",
      "source": [
        "from keras.layers.normalization.batch_normalization_v1 import BatchNormalization\n",
        "from keras.models import Sequential\n",
        "from keras import layers\n",
        "\n",
        "embedding_dim = 100\n",
        "maxlen= 4 \n",
        "model1 = Sequential()\n",
        "model1.add(layers.Embedding(input_dim=vocab_size, \n",
        "                           output_dim=embedding_dim, \n",
        "                           input_length=maxlen))\n",
        "model1.add(layers.Flatten())\n",
        "model1.add(layers.Dense(2, activation='softmax'))\n",
        "model1.compile(optimizer='rmsprop',\n",
        "              loss='binary_crossentropy',\n",
        "              metrics=['accuracy'])\n",
        "model1.summary()"
      ],
      "metadata": {
        "colab": {
          "base_uri": "https://localhost:8080/"
        },
        "id": "7OU8UxEWGYJ7",
        "outputId": "61ab8594-8df8-4580-b930-4f2d7418ecc5"
      },
      "execution_count": 91,
      "outputs": [
        {
          "output_type": "stream",
          "name": "stdout",
          "text": [
            "Model: \"sequential_18\"\n",
            "_________________________________________________________________\n",
            " Layer (type)                Output Shape              Param #   \n",
            "=================================================================\n",
            " embedding_17 (Embedding)    (None, 4, 100)            256000    \n",
            "                                                                 \n",
            " flatten_12 (Flatten)        (None, 400)               0         \n",
            "                                                                 \n",
            " dense_28 (Dense)            (None, 2)                 802       \n",
            "                                                                 \n",
            "=================================================================\n",
            "Total params: 256,802\n",
            "Trainable params: 256,802\n",
            "Non-trainable params: 0\n",
            "_________________________________________________________________\n"
          ]
        }
      ]
    },
    {
      "cell_type": "markdown",
      "metadata": {
        "id": "nTqLbbE6MpGt"
      },
      "source": [
        "# Build and tune model"
      ]
    },
    {
      "cell_type": "markdown",
      "metadata": {
        "id": "3X70rA4uMXNv"
      },
      "source": [
        "Define network architecture"
      ]
    },
    {
      "cell_type": "markdown",
      "metadata": {
        "id": "llS0-VKBMbz-"
      },
      "source": [
        "Train model"
      ]
    },
    {
      "cell_type": "code",
      "source": [
        "epochs = 10\n",
        "batch_size = 10\n",
        "validation = 0.2\n",
        "verbose = 2"
      ],
      "metadata": {
        "id": "kVqJMNTbF4t7"
      },
      "execution_count": 89,
      "outputs": []
    },
    {
      "cell_type": "code",
      "execution_count": 92,
      "metadata": {
        "id": "F5IJs0QuMe_I",
        "colab": {
          "base_uri": "https://localhost:8080/"
        },
        "outputId": "990691be-0346-4868-8a7b-896897e8179e"
      },
      "outputs": [
        {
          "output_type": "stream",
          "name": "stdout",
          "text": [
            "Train Model 1\n",
            "Epoch 1/10\n",
            "115/115 [==============================] - 2s 8ms/step - loss: 0.6877 - accuracy: 0.5562 - val_loss: 0.6838 - val_accuracy: 0.5610\n",
            "Epoch 2/10\n",
            "115/115 [==============================] - 2s 17ms/step - loss: 0.6730 - accuracy: 0.6059 - val_loss: 0.6757 - val_accuracy: 0.5645\n",
            "Epoch 3/10\n",
            "115/115 [==============================] - 0s 3ms/step - loss: 0.6570 - accuracy: 0.6207 - val_loss: 0.6746 - val_accuracy: 0.5645\n",
            "Epoch 4/10\n",
            "115/115 [==============================] - 0s 3ms/step - loss: 0.6444 - accuracy: 0.6391 - val_loss: 0.6764 - val_accuracy: 0.5645\n",
            "Epoch 5/10\n",
            "115/115 [==============================] - 1s 7ms/step - loss: 0.6357 - accuracy: 0.6469 - val_loss: 0.6767 - val_accuracy: 0.5819\n",
            "Epoch 6/10\n",
            "115/115 [==============================] - 0s 3ms/step - loss: 0.6280 - accuracy: 0.6495 - val_loss: 0.6860 - val_accuracy: 0.5819\n",
            "Epoch 7/10\n",
            "115/115 [==============================] - 1s 11ms/step - loss: 0.6235 - accuracy: 0.6521 - val_loss: 0.6858 - val_accuracy: 0.5923\n",
            "Epoch 8/10\n",
            "115/115 [==============================] - 0s 4ms/step - loss: 0.6207 - accuracy: 0.6469 - val_loss: 0.6946 - val_accuracy: 0.5784\n",
            "Epoch 9/10\n",
            "115/115 [==============================] - 0s 3ms/step - loss: 0.6168 - accuracy: 0.6495 - val_loss: 0.6995 - val_accuracy: 0.5819\n",
            "Epoch 10/10\n",
            "115/115 [==============================] - 1s 9ms/step - loss: 0.6157 - accuracy: 0.6574 - val_loss: 0.6962 - val_accuracy: 0.5645\n"
          ]
        }
      ],
      "source": [
        "print('Train Model 1')\n",
        "\n",
        "history = model1.fit(X_train,\n",
        "                      y_train,\n",
        "                      batch_size=batch_size,\n",
        "                      epochs=10,\n",
        "                      validation_split=0.2)"
      ]
    },
    {
      "cell_type": "code",
      "source": [
        "def plot1(history):\n",
        "    acc = history.history['accuracy']\n",
        "    val_acc = history.history['val_accuracy']\n",
        "    loss = history.history['loss']\n",
        "    val_loss = history.history['val_loss']\n",
        "\n",
        "    epochs = range(1, len(acc) + 1)\n",
        "    ## Accuracy plot\n",
        "    plt.plot(epochs, acc, 'bo', label='Training acc')\n",
        "    plt.plot(epochs, val_acc, 'b', label='Validation acc')\n",
        "    plt.title('Training and validation accuracy')\n",
        "    plt.legend()\n",
        "    ## Loss plot\n",
        "    plt.figure()\n",
        "\n",
        "    plt.plot(epochs, loss, 'bo', label='Training loss')\n",
        "    plt.plot(epochs, val_loss, 'b', label='Validation loss')\n",
        "    plt.title('Training and validation loss')\n",
        "    plt.legend()\n",
        "    plt.show()\n",
        "\n"
      ],
      "metadata": {
        "id": "cDmc0mTy_bwi"
      },
      "execution_count": 93,
      "outputs": []
    },
    {
      "cell_type": "markdown",
      "source": [
        "Plot graphs for accuracy and loss"
      ],
      "metadata": {
        "id": "refc9dCXE4i8"
      }
    },
    {
      "cell_type": "code",
      "source": [
        "plot1(history)"
      ],
      "metadata": {
        "colab": {
          "base_uri": "https://localhost:8080/",
          "height": 545
        },
        "id": "Kfqf36HF_4dj",
        "outputId": "9470874b-b4c5-45f2-80a1-690bb09b241d"
      },
      "execution_count": 94,
      "outputs": [
        {
          "output_type": "display_data",
          "data": {
            "text/plain": [
              "<Figure size 432x288 with 1 Axes>"
            ],
            "image/png": "[encoded data removed]"
          },
          "metadata": {
            "needs_background": "light"
          }
        },
        {
          "output_type": "display_data",
          "data": {
            "text/plain": [
              "<Figure size 432x288 with 1 Axes>"
            ],
            "image/png": "[encoded data removed]"
          },
          "metadata": {
            "needs_background": "light"
          }
        }
      ]
    },
    {
      "cell_type": "markdown",
      "metadata": {
        "id": "rniBBEiyMRKD"
      },
      "source": [
        "Examine performance of model"
      ]
    },
    {
      "cell_type": "code",
      "execution_count": 95,
      "metadata": {
        "id": "eBVogHg2II5T",
        "tags": [],
        "colab": {
          "base_uri": "https://localhost:8080/"
        },
        "outputId": "962ce5ef-1a34-4677-be96-d92587430945"
      },
      "outputs": [
        {
          "output_type": "stream",
          "name": "stdout",
          "text": [
            "Evaluate Model 1 Train data:\n",
            "45/45 [==============================] - 1s 13ms/step - loss: 0.6266 - accuracy: 0.6388\n",
            "Evaluate Model 1 Test data:\n",
            "12/12 [==============================] - 0s 2ms/step - loss: 0.6658 - accuracy: 0.6156\n"
          ]
        }
      ],
      "source": [
        "# Model 1 Evaluation\n",
        "\n",
        "print('Evaluate Model 1 Train data:')\n",
        "loss, accuracy = model1.evaluate(X_train, y_train[:1434])\n",
        "\n",
        "print('Evaluate Model 1 Test data:')\n",
        "loss, accuracy = model1.evaluate(X_test, y_test[:359])\n",
        "\n"
      ]
    },
    {
      "cell_type": "code",
      "source": [
        "# - reports the precision, recall and f1 score. Also print the confusion matrix. \n",
        "from sklearn import metrics\n",
        "import seaborn as sns\n",
        "from sklearn.metrics import confusion_matrix, precision_score,recall_score, f1_score\n",
        "\n",
        "y_pred=model1.predict(X_test) \n",
        "y_pred=np.argmax(y_pred, axis=1)\n",
        "\n",
        "cm = confusion_matrix(y_test, y_pred)\n",
        "\n",
        "print('CONFUSTION MATRIX AND ACCURACY SCORES: MODEL 1')\n",
        "print(metrics.classification_report(y_test,y_pred))\n",
        "cm = metrics.confusion_matrix(y_test,y_pred)\n",
        "sns.heatmap(cm, annot=True, fmt = '.2f')"
      ],
      "metadata": {
        "colab": {
          "base_uri": "https://localhost:8080/",
          "height": 496
        },
        "id": "7QO1hJnLzZ35",
        "outputId": "6a6b5bc6-6d36-442c-9576-606bde01672c"
      },
      "execution_count": 131,
      "outputs": [
        {
          "output_type": "stream",
          "name": "stdout",
          "text": [
            "12/12 [==============================] - 0s 2ms/step\n",
            "CONFUSTION MATRIX AND ACCURACY SCORES: MODEL 1\n",
            "              precision    recall  f1-score   support\n",
            "\n",
            "           0       0.64      0.51      0.57       178\n",
            "           1       0.60      0.72      0.66       181\n",
            "\n",
            "    accuracy                           0.62       359\n",
            "   macro avg       0.62      0.61      0.61       359\n",
            "weighted avg       0.62      0.62      0.61       359\n",
            "\n"
          ]
        },
        {
          "output_type": "execute_result",
          "data": {
            "text/plain": [
              "<matplotlib.axes._subplots.AxesSubplot at 0x7f28cbaeda90>"
            ]
          },
          "metadata": {},
          "execution_count": 131
        },
        {
          "output_type": "display_data",
          "data": {
            "text/plain": [
              "<Figure size 432x288 with 2 Axes>"
            ],
            "image/png": "[encoded data removed]"
          },
          "metadata": {
            "needs_background": "light"
          }
        }
      ]
    },
    {
      "cell_type": "code",
      "source": [
        "# Model 2\n",
        "from keras.layers import Dropout, LSTM\n",
        "time_stamp = 10\n",
        "model2 = Sequential()\n",
        "model2.add(layers.Embedding(input_dim=vocab_size, \n",
        "                           output_dim=embedding_dim, \n",
        "                           input_length=maxlen))\n",
        "model2.add(layers.SimpleRNN(10,activation='tanh',return_sequences=True))\n",
        "model2.add(Dropout(0.2))\n",
        "model2.add(layers.SimpleRNN(10,activation='tanh',return_sequences=True))\n",
        "model2.add(Dropout(0.2))\n",
        "model2.add(layers.LSTM(15,dropout=0.5))\n",
        "model2.add(layers.Dense(2, activation='sigmoid'))\n",
        "model2.compile(optimizer='rmsprop',\n",
        "              loss='categorical_crossentropy',\n",
        "              metrics=['accuracy'])\n",
        "model2.summary()\n"
      ],
      "metadata": {
        "colab": {
          "base_uri": "https://localhost:8080/"
        },
        "id": "wnLbjSvUHfda",
        "outputId": "0d59945f-1a25-4db2-f7b4-6f5de9e897e2"
      },
      "execution_count": 115,
      "outputs": [
        {
          "output_type": "stream",
          "name": "stdout",
          "text": [
            "Model: \"sequential_33\"\n",
            "_________________________________________________________________\n",
            " Layer (type)                Output Shape              Param #   \n",
            "=================================================================\n",
            " embedding_32 (Embedding)    (None, 4, 100)            256000    \n",
            "                                                                 \n",
            " simple_rnn_28 (SimpleRNN)   (None, 4, 10)             1110      \n",
            "                                                                 \n",
            " dropout_26 (Dropout)        (None, 4, 10)             0         \n",
            "                                                                 \n",
            " simple_rnn_29 (SimpleRNN)   (None, 4, 10)             210       \n",
            "                                                                 \n",
            " dropout_27 (Dropout)        (None, 4, 10)             0         \n",
            "                                                                 \n",
            " lstm_17 (LSTM)              (None, 15)                1560      \n",
            "                                                                 \n",
            " dense_54 (Dense)            (None, 2)                 32        \n",
            "                                                                 \n",
            "=================================================================\n",
            "Total params: 258,912\n",
            "Trainable params: 258,912\n",
            "Non-trainable params: 0\n",
            "_________________________________________________________________\n"
          ]
        }
      ]
    },
    {
      "cell_type": "code",
      "source": [
        "epochs = 10\n",
        "batch_size = 10\n",
        "validation = 0.2\n",
        "verbose = 2"
      ],
      "metadata": {
        "id": "JOL2P0R4L6Hp"
      },
      "execution_count": 111,
      "outputs": []
    },
    {
      "cell_type": "code",
      "source": [
        "print('Train Model 2')\n",
        "\n",
        "history = model2.fit(X_train,\n",
        "                      y_train,\n",
        "                      batch_size=batch_size,\n",
        "                      epochs=10,\n",
        "                      validation_split=(0.2))"
      ],
      "metadata": {
        "colab": {
          "base_uri": "https://localhost:8080/"
        },
        "id": "ckoasPDsF-7c",
        "outputId": "31e72a4a-0de7-48a4-8c1c-a209cde41d69"
      },
      "execution_count": 116,
      "outputs": [
        {
          "output_type": "stream",
          "name": "stdout",
          "text": [
            "Train Model 2\n",
            "Epoch 1/10\n",
            "115/115 [==============================] - 8s 29ms/step - loss: 0.6929 - accuracy: 0.5292 - val_loss: 0.6892 - val_accuracy: 0.5540\n",
            "Epoch 2/10\n",
            "115/115 [==============================] - 1s 10ms/step - loss: 0.6846 - accuracy: 0.5693 - val_loss: 0.6828 - val_accuracy: 0.5784\n",
            "Epoch 3/10\n",
            "115/115 [==============================] - 1s 12ms/step - loss: 0.6698 - accuracy: 0.5929 - val_loss: 0.6743 - val_accuracy: 0.5958\n",
            "Epoch 4/10\n",
            "115/115 [==============================] - 1s 8ms/step - loss: 0.6563 - accuracy: 0.6190 - val_loss: 0.6731 - val_accuracy: 0.5854\n",
            "Epoch 5/10\n",
            "115/115 [==============================] - 2s 17ms/step - loss: 0.6570 - accuracy: 0.6120 - val_loss: 0.6711 - val_accuracy: 0.5923\n",
            "Epoch 6/10\n",
            "115/115 [==============================] - 1s 12ms/step - loss: 0.6562 - accuracy: 0.5937 - val_loss: 0.6718 - val_accuracy: 0.5923\n",
            "Epoch 7/10\n",
            "115/115 [==============================] - 1s 11ms/step - loss: 0.6401 - accuracy: 0.6173 - val_loss: 0.6752 - val_accuracy: 0.5958\n",
            "Epoch 8/10\n",
            "115/115 [==============================] - 1s 8ms/step - loss: 0.6439 - accuracy: 0.6312 - val_loss: 0.6772 - val_accuracy: 0.5958\n",
            "Epoch 9/10\n",
            "115/115 [==============================] - 2s 18ms/step - loss: 0.6392 - accuracy: 0.6364 - val_loss: 0.6780 - val_accuracy: 0.5923\n",
            "Epoch 10/10\n",
            "115/115 [==============================] - 1s 13ms/step - loss: 0.6389 - accuracy: 0.6260 - val_loss: 0.6777 - val_accuracy: 0.5958\n"
          ]
        }
      ]
    },
    {
      "cell_type": "code",
      "source": [
        "plot1(history)"
      ],
      "metadata": {
        "colab": {
          "base_uri": "https://localhost:8080/",
          "height": 545
        },
        "id": "f-8p6mNfF_G-",
        "outputId": "4a775466-b3cd-4fc0-dba1-fd978149dc8e"
      },
      "execution_count": 117,
      "outputs": [
        {
          "output_type": "display_data",
          "data": {
            "text/plain": [
              "<Figure size 432x288 with 1 Axes>"
            ],
            "image/png": "[encoded data removed]"
          },
          "metadata": {
            "needs_background": "light"
          }
        },
        {
          "output_type": "display_data",
          "data": {
            "text/plain": [
              "<Figure size 432x288 with 1 Axes>"
            ],
            "image/png": "[encoded data removed]"
          },
          "metadata": {
            "needs_background": "light"
          }
        }
      ]
    },
    {
      "cell_type": "code",
      "source": [
        "# - reports the precision, recall and f1 score. Also print the confusion matrix. \n",
        "from sklearn import metrics\n",
        "import seaborn as sns\n",
        "from sklearn.metrics import confusion_matrix, precision_score,recall_score, f1_score\n",
        "\n",
        "y_pred=model2.predict(X_test) \n",
        "y_pred=np.argmax(y_pred, axis=1)\n",
        "\n",
        "cm = confusion_matrix(y_test, y_pred)\n",
        "\n",
        "print('CONFUSTION MATRIX AND ACCURACY SCORES: MODEL 2')\n",
        "print(metrics.classification_report(y_test,y_pred))\n",
        "cm = metrics.confusion_matrix(y_test,y_pred)\n",
        "sns.heatmap(cm, annot=True, fmt = '.2f')"
      ],
      "metadata": {
        "colab": {
          "base_uri": "https://localhost:8080/",
          "height": 496
        },
        "id": "MoE87LLd1rTn",
        "outputId": "64bdc633-5bb5-41f0-cbaf-255819fcc67c"
      },
      "execution_count": 132,
      "outputs": [
        {
          "output_type": "stream",
          "name": "stdout",
          "text": [
            "12/12 [==============================] - 0s 3ms/step\n",
            "CONFUSTION MATRIX AND ACCURACY SCORES: MODEL 2\n",
            "              precision    recall  f1-score   support\n",
            "\n",
            "           0       0.65      0.53      0.58       178\n",
            "           1       0.61      0.72      0.66       181\n",
            "\n",
            "    accuracy                           0.63       359\n",
            "   macro avg       0.63      0.63      0.62       359\n",
            "weighted avg       0.63      0.63      0.62       359\n",
            "\n"
          ]
        },
        {
          "output_type": "execute_result",
          "data": {
            "text/plain": [
              "<matplotlib.axes._subplots.AxesSubplot at 0x7f28ccd34550>"
            ]
          },
          "metadata": {},
          "execution_count": 132
        },
        {
          "output_type": "display_data",
          "data": {
            "text/plain": [
              "<Figure size 432x288 with 2 Axes>"
            ],
            "image/png": "[encoded data removed]"
          },
          "metadata": {
            "needs_background": "light"
          }
        }
      ]
    },
    {
      "cell_type": "markdown",
      "metadata": {
        "id": "eAZ1LyFBMLoK"
      },
      "source": [
        "# Make a prediction"
      ]
    },
    {
      "cell_type": "code",
      "execution_count": 118,
      "metadata": {
        "id": "vfPM5LokII5V",
        "tags": [],
        "colab": {
          "base_uri": "https://localhost:8080/",
          "height": 74
        },
        "outputId": "c35c42fc-70e0-420a-c194-24b4b2564763"
      },
      "outputs": [
        {
          "output_type": "stream",
          "name": "stdout",
          "text": [
            "Model 1 : Prediction\n",
            "1/1 [==============================] - 0s 78ms/step\n"
          ]
        },
        {
          "output_type": "execute_result",
          "data": {
            "text/plain": [
              "'Positive'"
            ],
            "application/vnd.google.colaboratory.intrinsic+json": {
              "type": "string"
            }
          },
          "metadata": {},
          "execution_count": 118
        }
      ],
      "source": [
        "# This is a very small set of completed new data to use to make predictions.\n",
        "\n",
        "prediction_data = [\"this book is fabulous\",\"i hated this book\", \"the best\", \"no good\", \"okay\"]\n",
        "\n",
        "tokenized = tokenizer.texts_to_sequences(prediction_data)\n",
        "padded = pad_sequences(tokenized, padding='post', maxlen=maxlen)\n",
        "\n",
        "\n",
        "\n",
        "print('Model 1 : Prediction')\n",
        "sentiment = ['Negative','Positive']\n",
        "sequence = tokenizer.texts_to_sequences(prediction_data)\n",
        "test = pad_sequences(sequence, maxlen=maxlen)\n",
        "sentiment[np.around(model1.predict(test), decimals=0).argmax(axis=1)[0]]\n",
        "\n",
        "\n"
      ]
    },
    {
      "cell_type": "code",
      "source": [
        "# Prediction Model 2\n",
        "print('Model 2 : Prediction')\n",
        "sentiment = ['Negative','Positive']\n",
        "sequence = tokenizer.texts_to_sequences(prediction_data)\n",
        "test = pad_sequences(sequence, maxlen=maxlen)\n",
        "sentiment[np.around(model2.predict(test), decimals=0).argmax(axis=1)[0]]\n"
      ],
      "metadata": {
        "colab": {
          "base_uri": "https://localhost:8080/",
          "height": 74
        },
        "id": "iROkLOCEN2bm",
        "outputId": "1df8461a-4764-4e67-ab51-a8a53a53044d"
      },
      "execution_count": 119,
      "outputs": [
        {
          "output_type": "stream",
          "name": "stdout",
          "text": [
            "Model 2 : Prediction\n",
            "1/1 [==============================] - 1s 1s/step\n"
          ]
        },
        {
          "output_type": "execute_result",
          "data": {
            "text/plain": [
              "'Positive'"
            ],
            "application/vnd.google.colaboratory.intrinsic+json": {
              "type": "string"
            }
          },
          "metadata": {},
          "execution_count": 119
        }
      ]
    },
    {
      "cell_type": "markdown",
      "source": [
        "# References:\n",
        "1. https://www.kaggle.com/code/jannesklaas/17-nlp-and-word-embeddings\n",
        "2. https://alvinntnu.github.io/NTNU_ENC2045_LECTURES/nlp/dl-simple-case.html\n",
        "3. https://realpython.com/python-keras-text-classification/\n",
        "4. https://towardsdatascience.com/an-easy-tutorial-about-sentiment-analysis-with-deep-learning-and-keras-2bf52b9cba91\n",
        "5. https://stackoverflow.com/questions/48851558/tensorflow-estimator-valueerror-logits-and-labels-must-have-the-same-shape\n",
        "6."
      ],
      "metadata": {
        "id": "wYcG3s8fA_uo"
      }
    },
    {
      "cell_type": "code",
      "source": [],
      "metadata": {
        "id": "pIoa6QP_A_yg"
      },
      "execution_count": 119,
      "outputs": []
    }
  ],
  "metadata": {
    "colab": {
      "collapsed_sections": [],
      "provenance": []
    },
    "kernelspec": {
      "display_name": "Python 3",
      "language": "python",
      "name": "python3"
    },
    "language_info": {
      "codemirror_mode": {
        "name": "ipython",
        "version": 3
      },
      "file_extension": ".py",
      "mimetype": "text/x-python",
      "name": "python",
      "nbconvert_exporter": "python",
      "pygments_lexer": "ipython3",
      "version": "3.8.2"
    }
  },
  "nbformat": 4,
  "nbformat_minor": 0
}